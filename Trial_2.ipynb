{
 "cells": [
  {
   "cell_type": "code",
   "execution_count": 83,
   "metadata": {},
   "outputs": [],
   "source": [
    "import pandas as pd\n",
    "import numpy as np\n",
    "\n",
    "import missingno as msno\n",
    "import seaborn as sns\n",
    "\n",
    "import imblearn\n",
    "from sklearn.preprocessing import OneHotEncoder\n",
    "from sklearn.preprocessing import RobustScaler\n",
    "from sklearn.model_selection import train_test_split\n",
    "from sklearn.metrics import confusion_matrix, classification_report\n",
    "\n",
    "import torch\n",
    "from torch.utils.data import TensorDataset\n",
    "from torch.utils.data import DataLoader\n",
    "from torch import nn\n",
    "import torch.optim as optim"
   ]
  },
  {
   "cell_type": "code",
   "execution_count": 84,
   "metadata": {},
   "outputs": [],
   "source": [
    "data = pd.read_csv(\"weatherAUS.csv\")\n",
    "df = data.copy()"
   ]
  },
  {
   "cell_type": "code",
   "execution_count": 85,
   "metadata": {},
   "outputs": [],
   "source": [
    "df.drop(['Evaporation','Sunshine',\"Cloud9am\",\"Cloud3pm\"],axis=1,inplace=True)\n",
    "df.dropna(axis=0,inplace=True)"
   ]
  },
  {
   "cell_type": "code",
   "execution_count": 105,
   "metadata": {
    "scrolled": false
   },
   "outputs": [
    {
     "data": {
      "text/plain": [
       "<AxesSubplot:xlabel='RainTomorrow', ylabel='count'>"
      ]
     },
     "execution_count": 105,
     "metadata": {},
     "output_type": "execute_result"
    },
    {
     "data": {
      "image/png": "[encoded data removed]",
      "text/plain": [
       "<Figure size 432x288 with 1 Axes>"
      ]
     },
     "metadata": {},
     "output_type": "display_data"
    }
   ],
   "source": [
    "sns.set_style('darkgrid')\n",
    "sns.countplot(x='RainTomorrow', data=df, palette='Dark2') "
   ]
  },
  {
   "cell_type": "code",
   "execution_count": null,
   "metadata": {},
   "outputs": [],
   "source": []
  },
  {
   "cell_type": "code",
   "execution_count": 87,
   "metadata": {},
   "outputs": [],
   "source": [
    "y = df['RainTomorrow']\n",
    "df_date = df[['Date']]\n",
    "df_chr = df.drop(['RainTomorrow','Date'],axis=1).select_dtypes(exclude=np.number)\n",
    "df_num = df.select_dtypes(include=np.number)"
   ]
  },
  {
   "cell_type": "code",
   "execution_count": 88,
   "metadata": {
    "scrolled": true
   },
   "outputs": [
    {
     "name": "stderr",
     "output_type": "stream",
     "text": [
      "D:\\anaconda3\\lib\\site-packages\\ipykernel_launcher.py:10: SettingWithCopyWarning: \n",
      "A value is trying to be set on a copy of a slice from a DataFrame.\n",
      "Try using .loc[row_indexer,col_indexer] = value instead\n",
      "\n",
      "See the caveats in the documentation: https://pandas.pydata.org/pandas-docs/stable/user_guide/indexing.html#returning-a-view-versus-a-copy\n",
      "  # Remove the CWD from sys.path while we load stuff.\n",
      "D:\\anaconda3\\lib\\site-packages\\ipykernel_launcher.py:11: SettingWithCopyWarning: \n",
      "A value is trying to be set on a copy of a slice from a DataFrame.\n",
      "Try using .loc[row_indexer,col_indexer] = value instead\n",
      "\n",
      "See the caveats in the documentation: https://pandas.pydata.org/pandas-docs/stable/user_guide/indexing.html#returning-a-view-versus-a-copy\n",
      "  # This is added back by InteractiveShellApp.init_path()\n",
      "D:\\anaconda3\\lib\\site-packages\\ipykernel_launcher.py:12: SettingWithCopyWarning: \n",
      "A value is trying to be set on a copy of a slice from a DataFrame.\n",
      "Try using .loc[row_indexer,col_indexer] = value instead\n",
      "\n",
      "See the caveats in the documentation: https://pandas.pydata.org/pandas-docs/stable/user_guide/indexing.html#returning-a-view-versus-a-copy\n",
      "  if sys.path[0] == '':\n",
      "D:\\anaconda3\\lib\\site-packages\\pandas\\core\\frame.py:4174: SettingWithCopyWarning: \n",
      "A value is trying to be set on a copy of a slice from a DataFrame\n",
      "\n",
      "See the caveats in the documentation: https://pandas.pydata.org/pandas-docs/stable/user_guide/indexing.html#returning-a-view-versus-a-copy\n",
      "  errors=errors,\n"
     ]
    }
   ],
   "source": [
    "num_cols = df_num.columns\n",
    "R_scaler = RobustScaler()\n",
    "df_num_rs = R_scaler.fit(df_num).transform(df_num)\n",
    "df_num_rs = pd.DataFrame(data = df_num_rs, columns = num_cols)\n",
    "\n",
    "df_chr = pd.get_dummies(df_chr,drop_first=True)\n",
    "y= pd.get_dummies(y,drop_first=True)\n",
    "df_chr.reset_index(inplace=True)\n",
    "\n",
    "df_date['Year'] = pd.to_numeric(df_date['Date'].str[:4])\n",
    "df_date['Month'] = pd.to_numeric(df_date['Date'].str[5:7])\n",
    "df_date['Day'] = pd.to_numeric(df_date['Date'].str[8:10])\n",
    "df_date.drop(['Date'],axis=1,inplace=True)\n",
    "date_cols = df_date.columns\n",
    "R_scaler = RobustScaler()\n",
    "df_date_rs = R_scaler.fit(df_date).transform(df_date)\n",
    "df_date_rs = pd.DataFrame(data = df_date_rs, columns = date_cols)\n",
    "\n",
    "X = pd.concat([df_chr,df_num_rs,df_date_rs],axis=1)"
   ]
  },
  {
   "cell_type": "code",
   "execution_count": 89,
   "metadata": {},
   "outputs": [],
   "source": [
    "X = X[['Humidity3pm','RainToday_Yes',\"Humidity9am\",\"WindGustSpeed\",'Pressure9am','Pressure3pm',\"Temp3pm\",\"Temp9am\",\"MinTemp\",\"MaxTemp\"]]"
   ]
  },
  {
   "cell_type": "code",
   "execution_count": 106,
   "metadata": {},
   "outputs": [],
   "source": [
    "from imblearn.over_sampling import RandomOverSampler\n",
    "oversample = RandomOverSampler(sampling_strategy=0.5)\n",
    "X, y = oversample.fit_resample(X, y)"
   ]
  },
  {
   "cell_type": "code",
   "execution_count": null,
   "metadata": {},
   "outputs": [],
   "source": []
  },
  {
   "cell_type": "code",
   "execution_count": 126,
   "metadata": {},
   "outputs": [],
   "source": [
    "X_train, X_test, y_train, y_test = train_test_split(X, y, test_size=0.33, random_state=101,stratify=y)"
   ]
  },
  {
   "cell_type": "markdown",
   "metadata": {},
   "source": [
    "# Modelling parametres"
   ]
  },
  {
   "cell_type": "code",
   "execution_count": 108,
   "metadata": {},
   "outputs": [],
   "source": [
    "EPOCHS = 50\n",
    "BATCH_SIZE = 64\n",
    "LEARNING_RATE = 0.001"
   ]
  },
  {
   "cell_type": "markdown",
   "metadata": {},
   "source": [
    "## Define Custom Dataloaders"
   ]
  },
  {
   "cell_type": "code",
   "execution_count": 129,
   "metadata": {},
   "outputs": [
    {
     "data": {
      "text/plain": [
       "tensor([[ 0.4483,  1.0000,  1.2800,  ...,  0.3011,  0.7033,  0.1442],\n",
       "        [ 0.9310,  0.0000, -0.2400,  ...,  0.3226,  0.3956, -0.1058],\n",
       "        [-0.5517,  1.0000,  1.0400,  ..., -0.1290, -0.0110,  0.5481],\n",
       "        ...,\n",
       "        [-0.2414,  0.0000,  0.1200,  ..., -0.6022, -0.3077, -0.5962],\n",
       "        [-0.6207,  0.0000, -0.4800,  ...,  1.2366,  1.3956,  1.2500],\n",
       "        [ 0.9655,  0.0000,  0.7600,  ..., -0.3978, -0.1648, -0.6635]])"
      ]
     },
     "execution_count": 129,
     "metadata": {},
     "output_type": "execute_result"
    }
   ],
   "source": [
    "X_train"
   ]
  },
  {
   "cell_type": "code",
   "execution_count": 128,
   "metadata": {},
   "outputs": [],
   "source": [
    "#coverting arrayes into torch\n",
    "X_train=torch.from_numpy(X_train.values).float()\n",
    "X_test=torch.from_numpy(X_test.values).float()\n",
    "y_train=torch.from_numpy(y_train.values).float()\n",
    "y_test=torch.from_numpy(y_test.values).float()"
   ]
  },
  {
   "cell_type": "code",
   "execution_count": 110,
   "metadata": {},
   "outputs": [],
   "source": [
    "#creating a Tensor Datasets\n",
    "train_data=TensorDataset(X_train , y_train)\n",
    "test_data=TensorDataset(X_test , y_test)"
   ]
  },
  {
   "cell_type": "code",
   "execution_count": 111,
   "metadata": {},
   "outputs": [],
   "source": [
    "train_loader = DataLoader(dataset=train_data, batch_size=BATCH_SIZE, shuffle=True)\n",
    "test_loader = DataLoader(dataset=test_data, batch_size=1)"
   ]
  },
  {
   "cell_type": "markdown",
   "metadata": {},
   "source": [
    "# Creating NN model"
   ]
  },
  {
   "cell_type": "code",
   "execution_count": 119,
   "metadata": {},
   "outputs": [],
   "source": [
    "class BinaryClassification(nn.Module):\n",
    "    def __init__(self):\n",
    "        super(BinaryClassification, self).__init__()\n",
    "        # Number of input features is 12.\n",
    "        self.layer_1 = nn.Linear(len(X.columns), 1000) \n",
    "        self.layer_2 = nn.Linear(1000, 499)\n",
    "        self.layer_out = nn.Linear(499, 1) \n",
    "        \n",
    "        self.relu = nn.ReLU()\n",
    "        self.dropout = nn.Dropout(p=0.1)\n",
    "        self.batchnorm1 = nn.BatchNorm1d(1000)\n",
    "        self.batchnorm2 = nn.BatchNorm1d(499)\n",
    "        \n",
    "    def forward(self, inputs):\n",
    "        x = self.relu(self.layer_1(inputs))\n",
    "        x = self.batchnorm1(x)\n",
    "        x = self.relu(self.layer_2(x))\n",
    "        x = self.batchnorm2(x)\n",
    "        x = self.dropout(x)\n",
    "        x = self.layer_out(x)\n",
    "        \n",
    "        return x"
   ]
  },
  {
   "cell_type": "code",
   "execution_count": 120,
   "metadata": {},
   "outputs": [
    {
     "name": "stdout",
     "output_type": "stream",
     "text": [
      "cpu\n"
     ]
    }
   ],
   "source": [
    "device = torch.device(\"cuda:0\" if torch.cuda.is_available() else \"cpu\")\n",
    "print(device)"
   ]
  },
  {
   "cell_type": "code",
   "execution_count": 121,
   "metadata": {},
   "outputs": [
    {
     "name": "stdout",
     "output_type": "stream",
     "text": [
      "BinaryClassification(\n",
      "  (layer_1): Linear(in_features=10, out_features=1000, bias=True)\n",
      "  (layer_2): Linear(in_features=1000, out_features=499, bias=True)\n",
      "  (layer_out): Linear(in_features=499, out_features=1, bias=True)\n",
      "  (relu): ReLU()\n",
      "  (dropout): Dropout(p=0.1, inplace=False)\n",
      "  (batchnorm1): BatchNorm1d(1000, eps=1e-05, momentum=0.1, affine=True, track_running_stats=True)\n",
      "  (batchnorm2): BatchNorm1d(499, eps=1e-05, momentum=0.1, affine=True, track_running_stats=True)\n",
      ")\n"
     ]
    }
   ],
   "source": [
    "model = BinaryClassification()\n",
    "model.to(device)\n",
    "print(model)\n",
    "criterion = nn.BCEWithLogitsLoss()\n",
    "optimizer = optim.Adam(model.parameters(), lr=LEARNING_RATE)"
   ]
  },
  {
   "cell_type": "code",
   "execution_count": 122,
   "metadata": {},
   "outputs": [],
   "source": [
    "def binary_acc(y_pred, y_test):\n",
    "    y_pred_tag = torch.round(torch.sigmoid(y_pred))\n",
    "\n",
    "    correct_results_sum = (y_pred_tag == y_test).sum().float()\n",
    "    acc = correct_results_sum/y_test.shape[0]\n",
    "    acc = torch.round(acc * 100)\n",
    "    \n",
    "    return acc"
   ]
  },
  {
   "cell_type": "code",
   "execution_count": 123,
   "metadata": {},
   "outputs": [
    {
     "name": "stdout",
     "output_type": "stream",
     "text": [
      "Epoch 001: | Loss: 0.43123 | Acc: 80.445\n",
      "Epoch 002: | Loss: 0.41785 | Acc: 80.995\n",
      "Epoch 003: | Loss: 0.41389 | Acc: 81.221\n",
      "Epoch 004: | Loss: 0.41206 | Acc: 81.217\n",
      "Epoch 005: | Loss: 0.41054 | Acc: 81.375\n",
      "Epoch 006: | Loss: 0.40886 | Acc: 81.413\n",
      "Epoch 007: | Loss: 0.40737 | Acc: 81.578\n",
      "Epoch 008: | Loss: 0.40612 | Acc: 81.528\n",
      "Epoch 009: | Loss: 0.40445 | Acc: 81.487\n",
      "Epoch 010: | Loss: 0.40356 | Acc: 81.633\n",
      "Epoch 011: | Loss: 0.40271 | Acc: 81.629\n",
      "Epoch 012: | Loss: 0.40167 | Acc: 81.643\n",
      "Epoch 013: | Loss: 0.39917 | Acc: 81.820\n",
      "Epoch 014: | Loss: 0.39884 | Acc: 81.930\n",
      "Epoch 015: | Loss: 0.39794 | Acc: 81.861\n",
      "Epoch 016: | Loss: 0.39689 | Acc: 81.993\n",
      "Epoch 017: | Loss: 0.39607 | Acc: 82.004\n",
      "Epoch 018: | Loss: 0.39597 | Acc: 82.009\n",
      "Epoch 019: | Loss: 0.39527 | Acc: 81.970\n",
      "Epoch 020: | Loss: 0.39408 | Acc: 82.076\n",
      "Epoch 021: | Loss: 0.39309 | Acc: 82.059\n",
      "Epoch 022: | Loss: 0.39153 | Acc: 82.306\n",
      "Epoch 023: | Loss: 0.39182 | Acc: 82.104\n",
      "Epoch 024: | Loss: 0.39072 | Acc: 82.208\n",
      "Epoch 025: | Loss: 0.39039 | Acc: 82.203\n",
      "Epoch 026: | Loss: 0.38844 | Acc: 82.304\n",
      "Epoch 027: | Loss: 0.38738 | Acc: 82.188\n",
      "Epoch 028: | Loss: 0.38655 | Acc: 82.503\n",
      "Epoch 029: | Loss: 0.38678 | Acc: 82.390\n",
      "Epoch 030: | Loss: 0.38576 | Acc: 82.538\n",
      "Epoch 031: | Loss: 0.38423 | Acc: 82.657\n",
      "Epoch 032: | Loss: 0.38370 | Acc: 82.580\n",
      "Epoch 033: | Loss: 0.38312 | Acc: 82.555\n",
      "Epoch 034: | Loss: 0.38316 | Acc: 82.594\n",
      "Epoch 035: | Loss: 0.38282 | Acc: 82.541\n",
      "Epoch 036: | Loss: 0.38197 | Acc: 82.734\n",
      "Epoch 037: | Loss: 0.37983 | Acc: 82.736\n",
      "Epoch 038: | Loss: 0.37909 | Acc: 82.725\n",
      "Epoch 039: | Loss: 0.38001 | Acc: 82.706\n",
      "Epoch 040: | Loss: 0.37782 | Acc: 82.821\n",
      "Epoch 041: | Loss: 0.37700 | Acc: 82.912\n",
      "Epoch 042: | Loss: 0.37628 | Acc: 82.899\n",
      "Epoch 043: | Loss: 0.37612 | Acc: 82.980\n",
      "Epoch 044: | Loss: 0.37592 | Acc: 82.978\n",
      "Epoch 045: | Loss: 0.37519 | Acc: 83.070\n",
      "Epoch 046: | Loss: 0.37299 | Acc: 83.086\n",
      "Epoch 047: | Loss: 0.37202 | Acc: 83.086\n",
      "Epoch 048: | Loss: 0.37350 | Acc: 83.077\n",
      "Epoch 049: | Loss: 0.37158 | Acc: 83.161\n",
      "Epoch 050: | Loss: 0.37163 | Acc: 83.222\n"
     ]
    }
   ],
   "source": [
    "model.train()\n",
    "for e in range(1, EPOCHS+1):\n",
    "    epoch_loss = 0\n",
    "    epoch_acc = 0\n",
    "    for X_batch, y_batch in train_loader:\n",
    "        X_batch, y_batch = X_batch.to(device), y_batch.to(device)\n",
    "        optimizer.zero_grad()\n",
    "        \n",
    "        y_pred = model(X_batch)\n",
    "        \n",
    "        loss = criterion(y_pred, y_batch.float())\n",
    "        acc = binary_acc(y_pred, y_batch.float())\n",
    "        \n",
    "        loss.backward()\n",
    "        optimizer.step()\n",
    "        \n",
    "        epoch_loss += loss.item()\n",
    "        epoch_acc += acc.item()\n",
    "        \n",
    "\n",
    "    print(f'Epoch {e+0:03}: | Loss: {epoch_loss/len(train_loader):.5f} | Acc: {epoch_acc/len(train_loader):.3f}')"
   ]
  },
  {
   "cell_type": "code",
   "execution_count": 124,
   "metadata": {},
   "outputs": [],
   "source": [
    "y_pred_list = []\n",
    "model.eval()\n",
    "with torch.no_grad():\n",
    "    for X_batch, y_batch in test_loader:\n",
    "        X_batch, y_batch = X_batch.to(device), y_batch.to(device)\n",
    "        X_batch = X_batch.to(device)\n",
    "        y_test_pred = model(X_batch)\n",
    "        y_test_pred = torch.sigmoid(y_test_pred)\n",
    "        y_pred_tag = torch.round(y_test_pred)\n",
    "        y_pred_list.append(y_pred_tag.cpu().numpy())\n",
    "\n",
    "y_pred_list = [a.squeeze().tolist() for a in y_pred_list]"
   ]
  },
  {
   "cell_type": "code",
   "execution_count": 125,
   "metadata": {},
   "outputs": [
    {
     "name": "stdout",
     "output_type": "stream",
     "text": [
      "[[26238  2771]\n",
      " [ 5026  9479]]\n",
      "\n",
      "               precision    recall  f1-score   support\n",
      "\n",
      "         0.0       0.84      0.90      0.87     29009\n",
      "         1.0       0.77      0.65      0.71     14505\n",
      "\n",
      "    accuracy                           0.82     43514\n",
      "   macro avg       0.81      0.78      0.79     43514\n",
      "weighted avg       0.82      0.82      0.82     43514\n",
      "\n"
     ]
    }
   ],
   "source": [
    "print(confusion_matrix(y_test, y_pred_list))\n",
    "print('\\n',classification_report( y_test, y_pred_list))\n"
   ]
  },
  {
   "cell_type": "code",
   "execution_count": null,
   "metadata": {},
   "outputs": [],
   "source": []
  },
  {
   "cell_type": "code",
   "execution_count": null,
   "metadata": {},
   "outputs": [],
   "source": []
  }
 ],
 "metadata": {
  "kernelspec": {
   "display_name": "Python 3",
   "language": "python",
   "name": "python3"
  },
  "language_info": {
   "codemirror_mode": {
    "name": "ipython",
    "version": 3
   },
   "file_extension": ".py",
   "mimetype": "text/x-python",
   "name": "python",
   "nbconvert_exporter": "python",
   "pygments_lexer": "ipython3",
   "version": "3.7.6"
  }
 },
 "nbformat": 4,
 "nbformat_minor": 4
}
